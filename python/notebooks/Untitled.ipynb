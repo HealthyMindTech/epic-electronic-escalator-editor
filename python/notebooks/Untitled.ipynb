{
 "cells": [
  {
   "cell_type": "code",
   "execution_count": 1,
   "id": "abac4dda-0621-4812-9a97-888423ffeb65",
   "metadata": {},
   "outputs": [],
   "source": [
    "import cv2\n",
    "import numpy as np\n",
    "from pdf2image import convert_from_path"
   ]
  },
  {
   "cell_type": "code",
   "execution_count": null,
   "id": "8e2b8e31-b439-45a0-a1c5-87ef66aa5fcc",
   "metadata": {},
   "outputs": [],
   "source": [
    "\n",
    "# Convert the PDF to images\n",
    "pdf_path = 'floor_plan.pdf'  # Replace with your PDF file path\n",
    "pages = convert_from_path(pdf_path, dpi=300)  # Higher DPI for better resolution\n",
    "\n",
    "# Process each page\n",
    "for i, page in enumerate(pages):\n",
    "    # Convert PIL image to OpenCV format\n",
    "    img = np.array(page)\n",
    "    img = cv2.cvtColor(img, cv2.COLOR_RGB2BGR)\n",
    "    \n",
    "    # Convert to grayscale\n",
    "    gray = cv2.cvtColor(img, cv2.COLOR_BGR2GRAY)\n",
    "\n",
    "    # Apply Gaussian Blur to reduce noise\n",
    "    blurred = cv2.GaussianBlur(gray, (5, 5), 0)\n",
    "\n",
    "    # Use Canny edge detection to highlight edges\n",
    "    edges = cv2.Canny(blurred, threshold1=50, threshold2=150, apertureSize=3)\n",
    "\n",
    "    # Use dilation to strengthen wall edges\n",
    "    kernel = np.ones((5, 5), np.uint8)\n",
    "    dilated = cv2.dilate(edges, kernel, iterations=2)\n",
    "\n",
    "    # Hough Transform to detect strong lines that could represent walls\n",
    "    lines = cv2.HoughLinesP(dilated, rho=1, theta=np.pi/180, threshold=100, minLineLength=100, maxLineGap=10)\n",
    "\n",
    "    # Create an empty image to draw wall lines\n",
    "    wall_lines = np.zeros_like(img)\n",
    "\n",
    "    # Draw the detected lines onto the empty image\n",
    "    if lines is not None:\n",
    "        for line in lines:\n",
    "            x1, y1, x2, y2 = line[0]\n",
    "            cv2.line(wall_lines, (x1, y1), (x2, y2), (255, 255, 255), 2)\n",
    "\n",
    "    # Convert wall_lines to grayscale to make it easier to view\n",
    "    wall_lines_gray = cv2.cvtColor(wall_lines, cv2.COLOR_BGR2GRAY)\n",
    "\n",
    "    # Save the result for each page\n",
    "    output_path = f\"extracted_wall_lines_page_{i + 1}.png\"\n",
    "    cv2.imwrite(output_path, wall_lines_gray)\n",
    "\n",
    "    # Display images (comment out if running in non-GUI environment)\n",
    "    cv2.imshow(\"Original\", img)\n",
    "    cv2.imshow(\"Edges\", edges)\n",
    "    cv2.imshow(\"Wall Lines\", wall_lines_gray)\n",
    "    cv2.waitKey(0)\n",
    "\n",
    "cv2.destroyAllWindows()\n"
   ]
  }
 ],
 "metadata": {
  "kernelspec": {
   "display_name": "Python 3 (ipykernel)",
   "language": "python",
   "name": "python3"
  },
  "language_info": {
   "codemirror_mode": {
    "name": "ipython",
    "version": 3
   },
   "file_extension": ".py",
   "mimetype": "text/x-python",
   "name": "python",
   "nbconvert_exporter": "python",
   "pygments_lexer": "ipython3",
   "version": "3.12.7"
  }
 },
 "nbformat": 4,
 "nbformat_minor": 5
}
